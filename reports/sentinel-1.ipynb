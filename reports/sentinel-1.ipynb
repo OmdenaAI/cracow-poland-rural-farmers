{
 "cells": [
  {
   "cell_type": "code",
   "execution_count": 3,
   "metadata": {},
   "outputs": [],
   "source": [
    "%matplotlib inline\n",
    "\n",
    "import geopandas as gpd\n",
    "import matplotlib.pyplot as plt\n",
    "import numpy as np\n",
    "import pandas as pd\n",
    "import seaborn as sns\n",
    "\n",
    "import geemap\n",
    "import ee\n"
   ]
  },
  {
   "cell_type": "code",
   "execution_count": 4,
   "metadata": {},
   "outputs": [
    {
     "data": {
      "text/html": [
       "<p>To authorize access needed by Earth Engine, open the following\n",
       "        URL in a web browser and follow the instructions:</p>\n",
       "        <p><a href=https://code.earthengine.google.com/client-auth?scopes=https%3A//www.googleapis.com/auth/earthengine%20https%3A//www.googleapis.com/auth/devstorage.full_control&request_id=4wNmL6nD3heUmgU0uGVq1EBfd4eQEhBunWdk-o1eLxU&tc=bKFmbKqlxl3gwk9JzZS-cCKje9IcJYytJYKHf3JEI34&cc=cQZ03VHc35NqqaJ8_HDOOUVCd5OleUFQVSGTjb1IaRk>https://code.earthengine.google.com/client-auth?scopes=https%3A//www.googleapis.com/auth/earthengine%20https%3A//www.googleapis.com/auth/devstorage.full_control&request_id=4wNmL6nD3heUmgU0uGVq1EBfd4eQEhBunWdk-o1eLxU&tc=bKFmbKqlxl3gwk9JzZS-cCKje9IcJYytJYKHf3JEI34&cc=cQZ03VHc35NqqaJ8_HDOOUVCd5OleUFQVSGTjb1IaRk</a></p>\n",
       "        <p>The authorization workflow will generate a code, which you should paste in the box below.</p>\n",
       "        "
      ],
      "text/plain": [
       "<IPython.core.display.HTML object>"
      ]
     },
     "metadata": {},
     "output_type": "display_data"
    },
    {
     "name": "stdout",
     "output_type": "stream",
     "text": [
      "\n",
      "Successfully saved authorization token.\n"
     ]
    }
   ],
   "source": [
    "ee.Authenticate()"
   ]
  },
  {
   "cell_type": "code",
   "execution_count": 5,
   "metadata": {},
   "outputs": [],
   "source": [
    "ee.Initialize()"
   ]
  },
  {
   "cell_type": "code",
   "execution_count": 11,
   "metadata": {},
   "outputs": [
    {
     "data": {
      "application/vnd.jupyter.widget-view+json": {
       "model_id": "47eee7a4740d439cb64d9cfb15fae768",
       "version_major": 2,
       "version_minor": 0
      },
      "text/plain": [
       "Map(center=[20, 0], controls=(WidgetControl(options=['position', 'transparent_bg'], widget=HBox(children=(Togg…"
      ]
     },
     "execution_count": 11,
     "metadata": {},
     "output_type": "execute_result"
    }
   ],
   "source": [
    "Map = geemap.Map()\n",
    "Map"
   ]
  },
  {
   "cell_type": "code",
   "execution_count": 32,
   "metadata": {},
   "outputs": [],
   "source": [
    "import folium"
   ]
  },
  {
   "cell_type": "code",
   "execution_count": 34,
   "metadata": {},
   "outputs": [
    {
     "data": {
      "text/html": [
       "<div style=\"width:100%;\"><div style=\"position:relative;width:100%;height:0;padding-bottom:60%;\"><span style=\"color:#565656\">Make this Notebook Trusted to load map: File -> Trust Notebook</span><iframe srcdoc=\"&lt;!DOCTYPE html&gt;\n",
       "&lt;html&gt;\n",
       "&lt;head&gt;\n",
       "    \n",
       "    &lt;meta http-equiv=&quot;content-type&quot; content=&quot;text/html; charset=UTF-8&quot; /&gt;\n",
       "    \n",
       "        &lt;script&gt;\n",
       "            L_NO_TOUCH = false;\n",
       "            L_DISABLE_3D = false;\n",
       "        &lt;/script&gt;\n",
       "    \n",
       "    &lt;style&gt;html, body {width: 100%;height: 100%;margin: 0;padding: 0;}&lt;/style&gt;\n",
       "    &lt;style&gt;#map {position:absolute;top:0;bottom:0;right:0;left:0;}&lt;/style&gt;\n",
       "    &lt;script src=&quot;https://cdn.jsdelivr.net/npm/leaflet@1.9.3/dist/leaflet.js&quot;&gt;&lt;/script&gt;\n",
       "    &lt;script src=&quot;https://code.jquery.com/jquery-1.12.4.min.js&quot;&gt;&lt;/script&gt;\n",
       "    &lt;script src=&quot;https://cdn.jsdelivr.net/npm/bootstrap@5.2.2/dist/js/bootstrap.bundle.min.js&quot;&gt;&lt;/script&gt;\n",
       "    &lt;script src=&quot;https://cdnjs.cloudflare.com/ajax/libs/Leaflet.awesome-markers/2.0.2/leaflet.awesome-markers.js&quot;&gt;&lt;/script&gt;\n",
       "    &lt;link rel=&quot;stylesheet&quot; href=&quot;https://cdn.jsdelivr.net/npm/leaflet@1.9.3/dist/leaflet.css&quot;/&gt;\n",
       "    &lt;link rel=&quot;stylesheet&quot; href=&quot;https://cdn.jsdelivr.net/npm/bootstrap@5.2.2/dist/css/bootstrap.min.css&quot;/&gt;\n",
       "    &lt;link rel=&quot;stylesheet&quot; href=&quot;https://netdna.bootstrapcdn.com/bootstrap/3.0.0/css/bootstrap.min.css&quot;/&gt;\n",
       "    &lt;link rel=&quot;stylesheet&quot; href=&quot;https://cdn.jsdelivr.net/npm/@fortawesome/fontawesome-free@6.2.0/css/all.min.css&quot;/&gt;\n",
       "    &lt;link rel=&quot;stylesheet&quot; href=&quot;https://cdnjs.cloudflare.com/ajax/libs/Leaflet.awesome-markers/2.0.2/leaflet.awesome-markers.css&quot;/&gt;\n",
       "    &lt;link rel=&quot;stylesheet&quot; href=&quot;https://cdn.jsdelivr.net/gh/python-visualization/folium/folium/templates/leaflet.awesome.rotate.min.css&quot;/&gt;\n",
       "    \n",
       "            &lt;meta name=&quot;viewport&quot; content=&quot;width=device-width,\n",
       "                initial-scale=1.0, maximum-scale=1.0, user-scalable=no&quot; /&gt;\n",
       "            &lt;style&gt;\n",
       "                #map_6e70cbe283fdcf258b4281adce13a05b {\n",
       "                    position: relative;\n",
       "                    width: 100.0%;\n",
       "                    height: 100.0%;\n",
       "                    left: 0.0%;\n",
       "                    top: 0.0%;\n",
       "                }\n",
       "                .leaflet-container { font-size: 1rem; }\n",
       "            &lt;/style&gt;\n",
       "        \n",
       "&lt;/head&gt;\n",
       "&lt;body&gt;\n",
       "    \n",
       "    \n",
       "            &lt;div class=&quot;folium-map&quot; id=&quot;map_6e70cbe283fdcf258b4281adce13a05b&quot; &gt;&lt;/div&gt;\n",
       "        \n",
       "&lt;/body&gt;\n",
       "&lt;script&gt;\n",
       "    \n",
       "    \n",
       "            var map_6e70cbe283fdcf258b4281adce13a05b = L.map(\n",
       "                &quot;map_6e70cbe283fdcf258b4281adce13a05b&quot;,\n",
       "                {\n",
       "                    center: [40.76, 73.984],\n",
       "                    crs: L.CRS.EPSG3857,\n",
       "                    zoom: 10,\n",
       "                    zoomControl: true,\n",
       "                    preferCanvas: false,\n",
       "                }\n",
       "            );\n",
       "\n",
       "            \n",
       "\n",
       "        \n",
       "    \n",
       "            var tile_layer_c9b84983f8e8433edeb47e651e0d4f7c = L.tileLayer(\n",
       "                &quot;https://{s}.tile.openstreetmap.org/{z}/{x}/{y}.png&quot;,\n",
       "                {&quot;attribution&quot;: &quot;Data by \\u0026copy; \\u003ca target=\\&quot;_blank\\&quot; href=\\&quot;http://openstreetmap.org\\&quot;\\u003eOpenStreetMap\\u003c/a\\u003e, under \\u003ca target=\\&quot;_blank\\&quot; href=\\&quot;http://www.openstreetmap.org/copyright\\&quot;\\u003eODbL\\u003c/a\\u003e.&quot;, &quot;detectRetina&quot;: false, &quot;maxNativeZoom&quot;: 18, &quot;maxZoom&quot;: 18, &quot;minZoom&quot;: 0, &quot;noWrap&quot;: false, &quot;opacity&quot;: 1, &quot;subdomains&quot;: &quot;abc&quot;, &quot;tms&quot;: false}\n",
       "            ).addTo(map_6e70cbe283fdcf258b4281adce13a05b);\n",
       "        \n",
       "    \n",
       "            var tile_layer_3930af0b865773e465f2848297ad5aed = L.tileLayer(\n",
       "                &quot;https://earthengine.googleapis.com/v1alpha/projects/earthengine-legacy/maps/5eefedf85fbcea9af0ac0209a3821f2b-4c94b9f5fd35eb20d44574ec310452bb/tiles/{z}/{x}/{y}&quot;,\n",
       "                {&quot;attribution&quot;: &quot;Map Data \\u0026copy; \\u003ca href=\\&quot;https://earthengine.google.com/\\&quot;\\u003eGoogle Earth Engine\\u003c/a\\u003e&quot;, &quot;detectRetina&quot;: false, &quot;maxNativeZoom&quot;: 18, &quot;maxZoom&quot;: 18, &quot;minZoom&quot;: 0, &quot;noWrap&quot;: false, &quot;opacity&quot;: 1, &quot;subdomains&quot;: &quot;abc&quot;, &quot;tms&quot;: false}\n",
       "            ).addTo(map_6e70cbe283fdcf258b4281adce13a05b);\n",
       "        \n",
       "    \n",
       "            var layer_control_b7c0cd905026ea448cd11edcc5cefefb = {\n",
       "                base_layers : {\n",
       "                    &quot;openstreetmap&quot; : tile_layer_c9b84983f8e8433edeb47e651e0d4f7c,\n",
       "                },\n",
       "                overlays :  {\n",
       "                    &quot;median composite&quot; : tile_layer_3930af0b865773e465f2848297ad5aed,\n",
       "                },\n",
       "            };\n",
       "            L.control.layers(\n",
       "                layer_control_b7c0cd905026ea448cd11edcc5cefefb.base_layers,\n",
       "                layer_control_b7c0cd905026ea448cd11edcc5cefefb.overlays,\n",
       "                {&quot;autoZIndex&quot;: true, &quot;collapsed&quot;: true, &quot;position&quot;: &quot;topright&quot;}\n",
       "            ).addTo(map_6e70cbe283fdcf258b4281adce13a05b);\n",
       "        \n",
       "&lt;/script&gt;\n",
       "&lt;/html&gt;\" style=\"position:absolute;width:100%;height:100%;left:0;top:0;border:none !important;\" allowfullscreen webkitallowfullscreen mozallowfullscreen></iframe></div></div>"
      ],
      "text/plain": [
       "<folium.folium.Map at 0x1552be990>"
      ]
     },
     "execution_count": 34,
     "metadata": {},
     "output_type": "execute_result"
    }
   ],
   "source": [
    "# Use Sentinel-2 data.\n",
    "BANDS = ['NDVI', 'WDRVI', 'SAVI']\n",
    "def add_indexes(img): \n",
    "    ndvi = img.expression(\n",
    "        '(nir - red) / (nir  + red + a)', {\n",
    "            'a': 1e-5,\n",
    "            'nir': img.select('B8'),\n",
    "            'red': img.select('B4')\n",
    "        }\n",
    "       \n",
    "    ).rename('NDVI')\n",
    "\n",
    "    wdrvi = img.expression(\n",
    "        '(a * nir - red) / (a * nir + red)', {\n",
    "            'a': 0.2,\n",
    "            'nir': img.select('B8'),\n",
    "            'red': img.select('B4')\n",
    "        }\n",
    "    ).rename('WDRVI')\n",
    "\n",
    "    savi = img.expression(\n",
    "        '1.5 * (nir - red) / (nir + red + 0.5)', {\n",
    "            'nir': img.select('B8'),\n",
    "            'red': img.select('B4')\n",
    "        }\n",
    "    ).rename('SAVI')\n",
    "\n",
    "    return ee.Image.cat([ndvi, wdrvi, savi])\n",
    "\n",
    "image = ee.ImageCollection('COPERNICUS/S2') \\\n",
    "    .filterDate('2018-01-01', '2018-04-01') \\\n",
    "    .filter(ee.Filter.lt('CLOUDY_PIXEL_PERCENTAGE', 20)) \\\n",
    "    .map(add_indexes) \\\n",
    "    .median()\n",
    "\n",
    "# Use folium to visualize the imagery.\n",
    "mapid = image.getMapId({'bands': BANDS, 'min': -1, 'max': 1})\n",
    "map = folium.Map(location=[              \n",
    "              9.835828,\n",
    "              0.162381,\n",
    "])\n",
    "folium.TileLayer(\n",
    "    tiles=mapid['tile_fetcher'].url_format,\n",
    "    attr='Map Data &copy; <a href=\"https://earthengine.google.com/\">Google Earth Engine</a>',\n",
    "    overlay=True,\n",
    "    name='median composite',\n",
    "  ).add_to(map)\n",
    "\n",
    "map.add_child(folium.LayerControl())\n",
    "map\n"
   ]
  },
  {
   "cell_type": "code",
   "execution_count": 26,
   "metadata": {},
   "outputs": [
    {
     "ename": "IndexError",
     "evalue": "list index out of range",
     "output_type": "error",
     "traceback": [
      "\u001b[0;31m---------------------------------------------------------------------------\u001b[0m",
      "\u001b[0;31mIndexError\u001b[0m                                Traceback (most recent call last)",
      "Cell \u001b[0;32mIn[26], line 11\u001b[0m\n\u001b[1;32m      8\u001b[0m js_dir \u001b[39m=\u001b[39m \u001b[39m\"\u001b[39m\u001b[39m/Users/aaronl/Documents/GitHub/cracow-poland-rural-farmers/reports/AgMIP RIA Phase 2 - CIWARA - Navrongo - Maize/finalscrip2.js\u001b[39m\u001b[39m\"\u001b[39m\n\u001b[1;32m     10\u001b[0m \u001b[39m# Convert all Earth Engine JavaScripts in a folder recursively to Python scripts.\u001b[39;00m\n\u001b[0;32m---> 11\u001b[0m js_to_python(js_dir)\n\u001b[1;32m     12\u001b[0m \u001b[39mprint\u001b[39m(\u001b[39m\"\u001b[39m\u001b[39msaved\u001b[39m\u001b[39m\"\u001b[39m)\n",
      "File \u001b[0;32m~/Documents/GitHub/cracow-poland-rural-farmers/venv/lib/python3.11/site-packages/geemap/conversion.py:415\u001b[0m, in \u001b[0;36mjs_to_python\u001b[0;34m(in_file, out_file, use_qgis, github_repo, show_map)\u001b[0m\n\u001b[1;32m    413\u001b[0m     \u001b[39mpass\u001b[39;00m\n\u001b[1;32m    414\u001b[0m \u001b[39melif\u001b[39;00m (\u001b[39m\"\u001b[39m\u001b[39mfor (\u001b[39m\u001b[39m\"\u001b[39m \u001b[39min\u001b[39;00m line) \u001b[39mor\u001b[39;00m (\u001b[39m\"\u001b[39m\u001b[39mfor(\u001b[39m\u001b[39m\"\u001b[39m \u001b[39min\u001b[39;00m line):\n\u001b[0;32m--> 415\u001b[0m     line \u001b[39m=\u001b[39m convert_for_loop(line)\n\u001b[1;32m    416\u001b[0m     lines[index] \u001b[39m=\u001b[39m line\n\u001b[1;32m    417\u001b[0m     bracket_index \u001b[39m=\u001b[39m line\u001b[39m.\u001b[39mindex(\u001b[39m\"\u001b[39m\u001b[39m{\u001b[39m\u001b[39m\"\u001b[39m)\n",
      "File \u001b[0;32m~/Documents/GitHub/cracow-poland-rural-farmers/venv/lib/python3.11/site-packages/geemap/conversion.py:205\u001b[0m, in \u001b[0;36mconvert_for_loop\u001b[0;34m(line)\u001b[0m\n\u001b[1;32m    203\u001b[0m start \u001b[39m=\u001b[39m subitems[\u001b[39m0\u001b[39m]\n\u001b[1;32m    204\u001b[0m end \u001b[39m=\u001b[39m subitems[\u001b[39m1\u001b[39m]\n\u001b[0;32m--> 205\u001b[0m step \u001b[39m=\u001b[39m subitems[\u001b[39m2\u001b[39;49m]\n\u001b[1;32m    207\u001b[0m \u001b[39mif\u001b[39;00m \u001b[39m\"\u001b[39m\u001b[39m++\u001b[39m\u001b[39m\"\u001b[39m \u001b[39min\u001b[39;00m step:\n\u001b[1;32m    208\u001b[0m     step \u001b[39m=\u001b[39m \u001b[39m1\u001b[39m\n",
      "\u001b[0;31mIndexError\u001b[0m: list index out of range"
     ]
    }
   ],
   "source": [
    " # Add necessary libraries.\n",
    "!pip install -q focal-loss\n",
    "import os\n",
    "from os import path as op\n",
    "import tensorflow as tf\n",
    "import folium\n",
    "from focal_loss import SparseCategoricalFocalLoss\n"
   ]
  }
 ],
 "metadata": {
  "kernelspec": {
   "display_name": "venv",
   "language": "python",
   "name": "python3"
  },
  "language_info": {
   "codemirror_mode": {
    "name": "ipython",
    "version": 3
   },
   "file_extension": ".py",
   "mimetype": "text/x-python",
   "name": "python",
   "nbconvert_exporter": "python",
   "pygments_lexer": "ipython3",
   "version": "3.11.1"
  },
  "orig_nbformat": 4,
  "vscode": {
   "interpreter": {
    "hash": "8b45239768bc0e08d851481a3d3566978e1193224ad294b9caba58a77f655212"
   }
  }
 },
 "nbformat": 4,
 "nbformat_minor": 2
}
