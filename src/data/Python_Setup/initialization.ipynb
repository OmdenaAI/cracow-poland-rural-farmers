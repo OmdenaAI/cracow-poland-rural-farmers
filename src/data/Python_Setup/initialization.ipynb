{
 "cells": [
  {
   "cell_type": "markdown",
   "metadata": {},
   "source": [
    "code Initialized for Python 3.11.1, map codes by skyprince999, Initialization test by ludiusvox, but use \"pip3 install requirements.txt when the project goes into full installation\""
   ]
  },
  {
   "cell_type": "code",
   "execution_count": 1,
   "metadata": {},
   "outputs": [
    {
     "name": "stdout",
     "output_type": "stream",
     "text": [
      "Requirement already satisfied: virtualenv in /Users/aaronl/Documents/GitHub/cracow-poland-rural-farmers/venv/lib/python3.11/site-packages (20.17.1)\n",
      "Requirement already satisfied: distlib<1,>=0.3.6 in /Users/aaronl/Documents/GitHub/cracow-poland-rural-farmers/venv/lib/python3.11/site-packages (from virtualenv) (0.3.6)\n",
      "Requirement already satisfied: filelock<4,>=3.4.1 in /Users/aaronl/Documents/GitHub/cracow-poland-rural-farmers/venv/lib/python3.11/site-packages (from virtualenv) (3.9.0)\n",
      "Requirement already satisfied: platformdirs<3,>=2.4 in /Users/aaronl/Documents/GitHub/cracow-poland-rural-farmers/venv/lib/python3.11/site-packages (from virtualenv) (2.6.2)\n"
     ]
    }
   ],
   "source": [
    "!pip3 install virtualenv"
   ]
  },
  {
   "cell_type": "code",
   "execution_count": 2,
   "metadata": {},
   "outputs": [],
   "source": [
    "!python3.11 -m venv venv"
   ]
  },
  {
   "cell_type": "code",
   "execution_count": 3,
   "metadata": {},
   "outputs": [
    {
     "name": "stdout",
     "output_type": "stream",
     "text": [
      "Requirement already satisfied: geemap in /Users/aaronl/Documents/GitHub/cracow-poland-rural-farmers/venv/lib/python3.11/site-packages (0.19.1)\n",
      "Requirement already satisfied: bqplot in /Users/aaronl/Documents/GitHub/cracow-poland-rural-farmers/venv/lib/python3.11/site-packages (from geemap) (0.12.36)\n",
      "Requirement already satisfied: colour in /Users/aaronl/Documents/GitHub/cracow-poland-rural-farmers/venv/lib/python3.11/site-packages (from geemap) (0.1.5)\n",
      "Requirement already satisfied: earthengine-api>=0.1.304 in /Users/aaronl/Documents/GitHub/cracow-poland-rural-farmers/venv/lib/python3.11/site-packages (from geemap) (0.1.335)\n",
      "Requirement already satisfied: ee-extra>=0.0.10 in /Users/aaronl/Documents/GitHub/cracow-poland-rural-farmers/venv/lib/python3.11/site-packages (from geemap) (0.0.14)\n",
      "Requirement already satisfied: eerepr>=0.0.4 in /Users/aaronl/Documents/GitHub/cracow-poland-rural-farmers/venv/lib/python3.11/site-packages (from geemap) (0.0.4)\n",
      "Requirement already satisfied: ffmpeg-python in /Users/aaronl/Documents/GitHub/cracow-poland-rural-farmers/venv/lib/python3.11/site-packages (from geemap) (0.2.0)\n",
      "Requirement already satisfied: folium>=0.11.0 in /Users/aaronl/Documents/GitHub/cracow-poland-rural-farmers/venv/lib/python3.11/site-packages (from geemap) (0.14.0)\n",
      "Requirement already satisfied: gdown in /Users/aaronl/Documents/GitHub/cracow-poland-rural-farmers/venv/lib/python3.11/site-packages (from geemap) (4.6.0)\n",
      "Requirement already satisfied: geeadd>=0.5.1 in /Users/aaronl/Documents/GitHub/cracow-poland-rural-farmers/venv/lib/python3.11/site-packages (from geemap) (0.5.6)\n",
      "Requirement already satisfied: geocoder in /Users/aaronl/Documents/GitHub/cracow-poland-rural-farmers/venv/lib/python3.11/site-packages (from geemap) (1.38.1)\n",
      "Requirement already satisfied: geojson in /Users/aaronl/Documents/GitHub/cracow-poland-rural-farmers/venv/lib/python3.11/site-packages (from geemap) (2.5.0)\n",
      "Requirement already satisfied: ipyevents in /Users/aaronl/Documents/GitHub/cracow-poland-rural-farmers/venv/lib/python3.11/site-packages (from geemap) (2.0.1)\n",
      "Requirement already satisfied: ipyfilechooser>=0.6.0 in /Users/aaronl/Documents/GitHub/cracow-poland-rural-farmers/venv/lib/python3.11/site-packages (from geemap) (0.6.0)\n",
      "Requirement already satisfied: ipyleaflet>=0.17.0 in /Users/aaronl/Documents/GitHub/cracow-poland-rural-farmers/venv/lib/python3.11/site-packages (from geemap) (0.17.2)\n",
      "Requirement already satisfied: ipytree in /Users/aaronl/Documents/GitHub/cracow-poland-rural-farmers/venv/lib/python3.11/site-packages (from geemap) (0.2.2)\n",
      "Requirement already satisfied: matplotlib in /Users/aaronl/Documents/GitHub/cracow-poland-rural-farmers/venv/lib/python3.11/site-packages (from geemap) (3.6.2)\n",
      "Requirement already satisfied: numpy in /Users/aaronl/Documents/GitHub/cracow-poland-rural-farmers/venv/lib/python3.11/site-packages (from geemap) (1.24.1)\n",
      "Requirement already satisfied: pandas in /Users/aaronl/Documents/GitHub/cracow-poland-rural-farmers/venv/lib/python3.11/site-packages (from geemap) (1.5.2)\n",
      "Requirement already satisfied: pillow in /Users/aaronl/Documents/GitHub/cracow-poland-rural-farmers/venv/lib/python3.11/site-packages (from geemap) (9.4.0)\n",
      "Requirement already satisfied: pycrs in /Users/aaronl/Documents/GitHub/cracow-poland-rural-farmers/venv/lib/python3.11/site-packages (from geemap) (1.0.2)\n",
      "Requirement already satisfied: pyshp>=2.1.3 in /Users/aaronl/Documents/GitHub/cracow-poland-rural-farmers/venv/lib/python3.11/site-packages (from geemap) (2.3.1)\n",
      "Requirement already satisfied: python-box in /Users/aaronl/Documents/GitHub/cracow-poland-rural-farmers/venv/lib/python3.11/site-packages (from geemap) (6.1.0)\n",
      "Requirement already satisfied: sankee>=0.1.0 in /Users/aaronl/Documents/GitHub/cracow-poland-rural-farmers/venv/lib/python3.11/site-packages (from geemap) (0.2.1)\n",
      "Requirement already satisfied: scooby in /Users/aaronl/Documents/GitHub/cracow-poland-rural-farmers/venv/lib/python3.11/site-packages (from geemap) (0.7.0)\n",
      "Requirement already satisfied: whiteboxgui>=0.6.0 in /Users/aaronl/Documents/GitHub/cracow-poland-rural-farmers/venv/lib/python3.11/site-packages (from geemap) (2.2.0)\n",
      "Requirement already satisfied: xyzservices in /Users/aaronl/Documents/GitHub/cracow-poland-rural-farmers/venv/lib/python3.11/site-packages (from geemap) (2022.9.0)\n",
      "Requirement already satisfied: future in /Users/aaronl/Documents/GitHub/cracow-poland-rural-farmers/venv/lib/python3.11/site-packages (from earthengine-api>=0.1.304->geemap) (0.18.2)\n",
      "Requirement already satisfied: google-cloud-storage in /Users/aaronl/Documents/GitHub/cracow-poland-rural-farmers/venv/lib/python3.11/site-packages (from earthengine-api>=0.1.304->geemap) (2.7.0)\n",
      "Requirement already satisfied: google-api-python-client>=1.12.1 in /Users/aaronl/Documents/GitHub/cracow-poland-rural-farmers/venv/lib/python3.11/site-packages (from earthengine-api>=0.1.304->geemap) (2.70.0)\n",
      "Requirement already satisfied: google-auth>=1.4.1 in /Users/aaronl/Documents/GitHub/cracow-poland-rural-farmers/venv/lib/python3.11/site-packages (from earthengine-api>=0.1.304->geemap) (2.15.0)\n",
      "Requirement already satisfied: google-auth-httplib2>=0.0.3 in /Users/aaronl/Documents/GitHub/cracow-poland-rural-farmers/venv/lib/python3.11/site-packages (from earthengine-api>=0.1.304->geemap) (0.1.0)\n",
      "Requirement already satisfied: httplib2<1dev,>=0.9.2 in /Users/aaronl/Documents/GitHub/cracow-poland-rural-farmers/venv/lib/python3.11/site-packages (from earthengine-api>=0.1.304->geemap) (0.21.0)\n",
      "Requirement already satisfied: requests in /Users/aaronl/Documents/GitHub/cracow-poland-rural-farmers/venv/lib/python3.11/site-packages (from earthengine-api>=0.1.304->geemap) (2.28.1)\n",
      "Requirement already satisfied: six in /Users/aaronl/Documents/GitHub/cracow-poland-rural-farmers/venv/lib/python3.11/site-packages (from earthengine-api>=0.1.304->geemap) (1.16.0)\n",
      "Requirement already satisfied: branca>=0.6.0 in /Users/aaronl/Documents/GitHub/cracow-poland-rural-farmers/venv/lib/python3.11/site-packages (from folium>=0.11.0->geemap) (0.6.0)\n",
      "Requirement already satisfied: jinja2>=2.9 in /Users/aaronl/Documents/GitHub/cracow-poland-rural-farmers/venv/lib/python3.11/site-packages (from folium>=0.11.0->geemap) (3.1.2)\n",
      "Requirement already satisfied: logzero>=1.5.0 in /Users/aaronl/Documents/GitHub/cracow-poland-rural-farmers/venv/lib/python3.11/site-packages (from geeadd>=0.5.1->geemap) (1.7.0)\n",
      "Requirement already satisfied: beautifulsoup4>=4.9.0 in /Users/aaronl/Documents/GitHub/cracow-poland-rural-farmers/venv/lib/python3.11/site-packages (from geeadd>=0.5.1->geemap) (4.11.1)\n",
      "Requirement already satisfied: ipywidgets in /Users/aaronl/Documents/GitHub/cracow-poland-rural-farmers/venv/lib/python3.11/site-packages (from ipyfilechooser>=0.6.0->geemap) (8.0.4)\n",
      "Requirement already satisfied: traittypes<3,>=0.2.1 in /Users/aaronl/Documents/GitHub/cracow-poland-rural-farmers/venv/lib/python3.11/site-packages (from ipyleaflet>=0.17.0->geemap) (0.2.1)\n",
      "Requirement already satisfied: plotly>=5.2.2 in /Users/aaronl/Documents/GitHub/cracow-poland-rural-farmers/venv/lib/python3.11/site-packages (from sankee>=0.1.0->geemap) (5.11.0)\n",
      "Requirement already satisfied: whitebox in /Users/aaronl/Documents/GitHub/cracow-poland-rural-farmers/venv/lib/python3.11/site-packages (from whiteboxgui>=0.6.0->geemap) (2.2.0)\n",
      "Requirement already satisfied: traitlets>=4.3.0 in /Users/aaronl/Documents/GitHub/cracow-poland-rural-farmers/venv/lib/python3.11/site-packages (from bqplot->geemap) (5.8.0)\n",
      "Requirement already satisfied: python-dateutil>=2.8.1 in /Users/aaronl/Documents/GitHub/cracow-poland-rural-farmers/venv/lib/python3.11/site-packages (from pandas->geemap) (2.8.2)\n",
      "Requirement already satisfied: pytz>=2020.1 in /Users/aaronl/Documents/GitHub/cracow-poland-rural-farmers/venv/lib/python3.11/site-packages (from pandas->geemap) (2022.7)\n",
      "Requirement already satisfied: filelock in /Users/aaronl/Documents/GitHub/cracow-poland-rural-farmers/venv/lib/python3.11/site-packages (from gdown->geemap) (3.9.0)\n",
      "Requirement already satisfied: tqdm in /Users/aaronl/Documents/GitHub/cracow-poland-rural-farmers/venv/lib/python3.11/site-packages (from gdown->geemap) (4.64.1)\n",
      "Requirement already satisfied: click in /Users/aaronl/Documents/GitHub/cracow-poland-rural-farmers/venv/lib/python3.11/site-packages (from geocoder->geemap) (8.1.3)\n",
      "Requirement already satisfied: ratelim in /Users/aaronl/Documents/GitHub/cracow-poland-rural-farmers/venv/lib/python3.11/site-packages (from geocoder->geemap) (0.1.6)\n"
     ]
    },
    {
     "name": "stdout",
     "output_type": "stream",
     "text": [
      "Requirement already satisfied: contourpy>=1.0.1 in /Users/aaronl/Documents/GitHub/cracow-poland-rural-farmers/venv/lib/python3.11/site-packages (from matplotlib->geemap) (1.0.6)\n",
      "Requirement already satisfied: cycler>=0.10 in /Users/aaronl/Documents/GitHub/cracow-poland-rural-farmers/venv/lib/python3.11/site-packages (from matplotlib->geemap) (0.11.0)\n",
      "Requirement already satisfied: fonttools>=4.22.0 in /Users/aaronl/Documents/GitHub/cracow-poland-rural-farmers/venv/lib/python3.11/site-packages (from matplotlib->geemap) (4.38.0)\n",
      "Requirement already satisfied: kiwisolver>=1.0.1 in /Users/aaronl/Documents/GitHub/cracow-poland-rural-farmers/venv/lib/python3.11/site-packages (from matplotlib->geemap) (1.4.4)\n",
      "Requirement already satisfied: packaging>=20.0 in /Users/aaronl/Documents/GitHub/cracow-poland-rural-farmers/venv/lib/python3.11/site-packages (from matplotlib->geemap) (22.0)\n",
      "Requirement already satisfied: pyparsing>=2.2.1 in /Users/aaronl/Documents/GitHub/cracow-poland-rural-farmers/venv/lib/python3.11/site-packages (from matplotlib->geemap) (3.0.9)\n",
      "Requirement already satisfied: soupsieve>1.2 in /Users/aaronl/Documents/GitHub/cracow-poland-rural-farmers/venv/lib/python3.11/site-packages (from beautifulsoup4>=4.9.0->geeadd>=0.5.1->geemap) (2.3.2.post1)\n",
      "Requirement already satisfied: google-api-core!=2.0.*,!=2.1.*,!=2.2.*,!=2.3.0,<3.0.0dev,>=1.31.5 in /Users/aaronl/Documents/GitHub/cracow-poland-rural-farmers/venv/lib/python3.11/site-packages (from google-api-python-client>=1.12.1->earthengine-api>=0.1.304->geemap) (2.11.0)\n",
      "Requirement already satisfied: uritemplate<5,>=3.0.1 in /Users/aaronl/Documents/GitHub/cracow-poland-rural-farmers/venv/lib/python3.11/site-packages (from google-api-python-client>=1.12.1->earthengine-api>=0.1.304->geemap) (4.1.1)\n",
      "Requirement already satisfied: cachetools<6.0,>=2.0.0 in /Users/aaronl/Documents/GitHub/cracow-poland-rural-farmers/venv/lib/python3.11/site-packages (from google-auth>=1.4.1->earthengine-api>=0.1.304->geemap) (5.2.0)\n",
      "Requirement already satisfied: pyasn1-modules>=0.2.1 in /Users/aaronl/Documents/GitHub/cracow-poland-rural-farmers/venv/lib/python3.11/site-packages (from google-auth>=1.4.1->earthengine-api>=0.1.304->geemap) (0.2.8)\n",
      "Requirement already satisfied: rsa<5,>=3.1.4 in /Users/aaronl/Documents/GitHub/cracow-poland-rural-farmers/venv/lib/python3.11/site-packages (from google-auth>=1.4.1->earthengine-api>=0.1.304->geemap) (4.9)\n",
      "Requirement already satisfied: ipykernel>=4.5.1 in /Users/aaronl/Documents/GitHub/cracow-poland-rural-farmers/venv/lib/python3.11/site-packages (from ipywidgets->ipyfilechooser>=0.6.0->geemap) (6.19.4)\n",
      "Requirement already satisfied: ipython>=6.1.0 in /Users/aaronl/Documents/GitHub/cracow-poland-rural-farmers/venv/lib/python3.11/site-packages (from ipywidgets->ipyfilechooser>=0.6.0->geemap) (8.7.0)\n",
      "Requirement already satisfied: widgetsnbextension~=4.0 in /Users/aaronl/Documents/GitHub/cracow-poland-rural-farmers/venv/lib/python3.11/site-packages (from ipywidgets->ipyfilechooser>=0.6.0->geemap) (4.0.5)\n",
      "Requirement already satisfied: jupyterlab-widgets~=3.0 in /Users/aaronl/Documents/GitHub/cracow-poland-rural-farmers/venv/lib/python3.11/site-packages (from ipywidgets->ipyfilechooser>=0.6.0->geemap) (3.0.5)\n",
      "Requirement already satisfied: MarkupSafe>=2.0 in /Users/aaronl/Documents/GitHub/cracow-poland-rural-farmers/venv/lib/python3.11/site-packages (from jinja2>=2.9->folium>=0.11.0->geemap) (2.1.1)\n",
      "Requirement already satisfied: tenacity>=6.2.0 in /Users/aaronl/Documents/GitHub/cracow-poland-rural-farmers/venv/lib/python3.11/site-packages (from plotly>=5.2.2->sankee>=0.1.0->geemap) (8.1.0)\n",
      "Requirement already satisfied: charset-normalizer<3,>=2 in /Users/aaronl/Documents/GitHub/cracow-poland-rural-farmers/venv/lib/python3.11/site-packages (from requests->earthengine-api>=0.1.304->geemap) (2.1.1)\n",
      "Requirement already satisfied: idna<4,>=2.5 in /Users/aaronl/Documents/GitHub/cracow-poland-rural-farmers/venv/lib/python3.11/site-packages (from requests->earthengine-api>=0.1.304->geemap) (3.4)\n",
      "Requirement already satisfied: urllib3<1.27,>=1.21.1 in /Users/aaronl/Documents/GitHub/cracow-poland-rural-farmers/venv/lib/python3.11/site-packages (from requests->earthengine-api>=0.1.304->geemap) (1.26.13)\n",
      "Requirement already satisfied: certifi>=2017.4.17 in /Users/aaronl/Documents/GitHub/cracow-poland-rural-farmers/venv/lib/python3.11/site-packages (from requests->earthengine-api>=0.1.304->geemap) (2022.12.7)\n",
      "Requirement already satisfied: google-cloud-core<3.0dev,>=2.3.0 in /Users/aaronl/Documents/GitHub/cracow-poland-rural-farmers/venv/lib/python3.11/site-packages (from google-cloud-storage->earthengine-api>=0.1.304->geemap) (2.3.2)\n",
      "Requirement already satisfied: google-resumable-media>=2.3.2 in /Users/aaronl/Documents/GitHub/cracow-poland-rural-farmers/venv/lib/python3.11/site-packages (from google-cloud-storage->earthengine-api>=0.1.304->geemap) (2.4.0)\n",
      "Requirement already satisfied: decorator in /Users/aaronl/Documents/GitHub/cracow-poland-rural-farmers/venv/lib/python3.11/site-packages (from ratelim->geocoder->geemap) (5.1.1)\n",
      "Requirement already satisfied: PySocks!=1.5.7,>=1.5.6 in /Users/aaronl/Documents/GitHub/cracow-poland-rural-farmers/venv/lib/python3.11/site-packages (from requests->earthengine-api>=0.1.304->geemap) (1.7.1)\n",
      "Requirement already satisfied: googleapis-common-protos<2.0dev,>=1.56.2 in /Users/aaronl/Documents/GitHub/cracow-poland-rural-farmers/venv/lib/python3.11/site-packages (from google-api-core!=2.0.*,!=2.1.*,!=2.2.*,!=2.3.0,<3.0.0dev,>=1.31.5->google-api-python-client>=1.12.1->earthengine-api>=0.1.304->geemap) (1.57.0)\n",
      "Requirement already satisfied: protobuf!=3.20.0,!=3.20.1,!=4.21.0,!=4.21.1,!=4.21.2,!=4.21.3,!=4.21.4,!=4.21.5,<5.0.0dev,>=3.19.5 in /Users/aaronl/Documents/GitHub/cracow-poland-rural-farmers/venv/lib/python3.11/site-packages (from google-api-core!=2.0.*,!=2.1.*,!=2.2.*,!=2.3.0,<3.0.0dev,>=1.31.5->google-api-python-client>=1.12.1->earthengine-api>=0.1.304->geemap) (4.21.12)\n",
      "Requirement already satisfied: google-crc32c<2.0dev,>=1.0 in /Users/aaronl/Documents/GitHub/cracow-poland-rural-farmers/venv/lib/python3.11/site-packages (from google-resumable-media>=2.3.2->google-cloud-storage->earthengine-api>=0.1.304->geemap) (1.5.0)\n",
      "Requirement already satisfied: appnope in /Users/aaronl/Documents/GitHub/cracow-poland-rural-farmers/venv/lib/python3.11/site-packages (from ipykernel>=4.5.1->ipywidgets->ipyfilechooser>=0.6.0->geemap) (0.1.3)\n",
      "Requirement already satisfied: comm>=0.1.1 in /Users/aaronl/Documents/GitHub/cracow-poland-rural-farmers/venv/lib/python3.11/site-packages (from ipykernel>=4.5.1->ipywidgets->ipyfilechooser>=0.6.0->geemap) (0.1.2)\n",
      "Requirement already satisfied: debugpy>=1.0 in /Users/aaronl/Documents/GitHub/cracow-poland-rural-farmers/venv/lib/python3.11/site-packages (from ipykernel>=4.5.1->ipywidgets->ipyfilechooser>=0.6.0->geemap) (1.6.4)\n",
      "Requirement already satisfied: jupyter-client>=6.1.12 in /Users/aaronl/Documents/GitHub/cracow-poland-rural-farmers/venv/lib/python3.11/site-packages (from ipykernel>=4.5.1->ipywidgets->ipyfilechooser>=0.6.0->geemap) (7.4.8)\n",
      "Requirement already satisfied: matplotlib-inline>=0.1 in /Users/aaronl/Documents/GitHub/cracow-poland-rural-farmers/venv/lib/python3.11/site-packages (from ipykernel>=4.5.1->ipywidgets->ipyfilechooser>=0.6.0->geemap) (0.1.6)\n",
      "Requirement already satisfied: nest-asyncio in /Users/aaronl/Documents/GitHub/cracow-poland-rural-farmers/venv/lib/python3.11/site-packages (from ipykernel>=4.5.1->ipywidgets->ipyfilechooser>=0.6.0->geemap) (1.5.6)\n",
      "Requirement already satisfied: psutil in /Users/aaronl/Documents/GitHub/cracow-poland-rural-farmers/venv/lib/python3.11/site-packages (from ipykernel>=4.5.1->ipywidgets->ipyfilechooser>=0.6.0->geemap) (5.9.4)\n",
      "Requirement already satisfied: pyzmq>=17 in /Users/aaronl/Documents/GitHub/cracow-poland-rural-farmers/venv/lib/python3.11/site-packages (from ipykernel>=4.5.1->ipywidgets->ipyfilechooser>=0.6.0->geemap) (24.0.1)\n",
      "Requirement already satisfied: tornado>=6.1 in /Users/aaronl/Documents/GitHub/cracow-poland-rural-farmers/venv/lib/python3.11/site-packages (from ipykernel>=4.5.1->ipywidgets->ipyfilechooser>=0.6.0->geemap) (6.2)\n",
      "Requirement already satisfied: backcall in /Users/aaronl/Documents/GitHub/cracow-poland-rural-farmers/venv/lib/python3.11/site-packages (from ipython>=6.1.0->ipywidgets->ipyfilechooser>=0.6.0->geemap) (0.2.0)\n",
      "Requirement already satisfied: jedi>=0.16 in /Users/aaronl/Documents/GitHub/cracow-poland-rural-farmers/venv/lib/python3.11/site-packages (from ipython>=6.1.0->ipywidgets->ipyfilechooser>=0.6.0->geemap) (0.18.2)\n",
      "Requirement already satisfied: pickleshare in /Users/aaronl/Documents/GitHub/cracow-poland-rural-farmers/venv/lib/python3.11/site-packages (from ipython>=6.1.0->ipywidgets->ipyfilechooser>=0.6.0->geemap) (0.7.5)\n",
      "Requirement already satisfied: prompt-toolkit<3.1.0,>=3.0.11 in /Users/aaronl/Documents/GitHub/cracow-poland-rural-farmers/venv/lib/python3.11/site-packages (from ipython>=6.1.0->ipywidgets->ipyfilechooser>=0.6.0->geemap) (3.0.36)\n",
      "Requirement already satisfied: pygments>=2.4.0 in /Users/aaronl/Documents/GitHub/cracow-poland-rural-farmers/venv/lib/python3.11/site-packages (from ipython>=6.1.0->ipywidgets->ipyfilechooser>=0.6.0->geemap) (2.14.0)\n",
      "Requirement already satisfied: stack-data in /Users/aaronl/Documents/GitHub/cracow-poland-rural-farmers/venv/lib/python3.11/site-packages (from ipython>=6.1.0->ipywidgets->ipyfilechooser>=0.6.0->geemap) (0.6.2)\n",
      "Requirement already satisfied: pexpect>4.3 in /Users/aaronl/Documents/GitHub/cracow-poland-rural-farmers/venv/lib/python3.11/site-packages (from ipython>=6.1.0->ipywidgets->ipyfilechooser>=0.6.0->geemap) (4.8.0)\n"
     ]
    },
    {
     "name": "stdout",
     "output_type": "stream",
     "text": [
      "Requirement already satisfied: pyasn1<0.5.0,>=0.4.6 in /Users/aaronl/Documents/GitHub/cracow-poland-rural-farmers/venv/lib/python3.11/site-packages (from pyasn1-modules>=0.2.1->google-auth>=1.4.1->earthengine-api>=0.1.304->geemap) (0.4.8)\n",
      "Requirement already satisfied: parso<0.9.0,>=0.8.0 in /Users/aaronl/Documents/GitHub/cracow-poland-rural-farmers/venv/lib/python3.11/site-packages (from jedi>=0.16->ipython>=6.1.0->ipywidgets->ipyfilechooser>=0.6.0->geemap) (0.8.3)\n",
      "Requirement already satisfied: entrypoints in /Users/aaronl/Documents/GitHub/cracow-poland-rural-farmers/venv/lib/python3.11/site-packages (from jupyter-client>=6.1.12->ipykernel>=4.5.1->ipywidgets->ipyfilechooser>=0.6.0->geemap) (0.4)\n",
      "Requirement already satisfied: jupyter-core>=4.9.2 in /Users/aaronl/Documents/GitHub/cracow-poland-rural-farmers/venv/lib/python3.11/site-packages (from jupyter-client>=6.1.12->ipykernel>=4.5.1->ipywidgets->ipyfilechooser>=0.6.0->geemap) (5.1.2)\n",
      "Requirement already satisfied: ptyprocess>=0.5 in /Users/aaronl/Documents/GitHub/cracow-poland-rural-farmers/venv/lib/python3.11/site-packages (from pexpect>4.3->ipython>=6.1.0->ipywidgets->ipyfilechooser>=0.6.0->geemap) (0.7.0)\n",
      "Requirement already satisfied: wcwidth in /Users/aaronl/Documents/GitHub/cracow-poland-rural-farmers/venv/lib/python3.11/site-packages (from prompt-toolkit<3.1.0,>=3.0.11->ipython>=6.1.0->ipywidgets->ipyfilechooser>=0.6.0->geemap) (0.2.5)\n",
      "Requirement already satisfied: executing>=1.2.0 in /Users/aaronl/Documents/GitHub/cracow-poland-rural-farmers/venv/lib/python3.11/site-packages (from stack-data->ipython>=6.1.0->ipywidgets->ipyfilechooser>=0.6.0->geemap) (1.2.0)\n",
      "Requirement already satisfied: asttokens>=2.1.0 in /Users/aaronl/Documents/GitHub/cracow-poland-rural-farmers/venv/lib/python3.11/site-packages (from stack-data->ipython>=6.1.0->ipywidgets->ipyfilechooser>=0.6.0->geemap) (2.2.1)\n",
      "Requirement already satisfied: pure-eval in /Users/aaronl/Documents/GitHub/cracow-poland-rural-farmers/venv/lib/python3.11/site-packages (from stack-data->ipython>=6.1.0->ipywidgets->ipyfilechooser>=0.6.0->geemap) (0.2.2)\n",
      "Requirement already satisfied: platformdirs>=2.5 in /Users/aaronl/Documents/GitHub/cracow-poland-rural-farmers/venv/lib/python3.11/site-packages (from jupyter-core>=4.9.2->jupyter-client>=6.1.12->ipykernel>=4.5.1->ipywidgets->ipyfilechooser>=0.6.0->geemap) (2.6.2)\n"
     ]
    }
   ],
   "source": [
    "!pip3 install geemap"
   ]
  },
  {
   "cell_type": "code",
   "execution_count": 4,
   "metadata": {},
   "outputs": [
    {
     "name": "stdout",
     "output_type": "stream",
     "text": [
      "Requirement already satisfied: mss in /Users/aaronl/Documents/GitHub/cracow-poland-rural-farmers/venv/lib/python3.11/site-packages (7.0.1)\r\n"
     ]
    }
   ],
   "source": [
    "!pip3 install mss"
   ]
  },
  {
   "cell_type": "code",
   "execution_count": 5,
   "metadata": {},
   "outputs": [],
   "source": [
    "!source ./venv/bin/activate"
   ]
  },
  {
   "cell_type": "code",
   "execution_count": 6,
   "metadata": {},
   "outputs": [],
   "source": [
    "import geemap\n",
    "import ee"
   ]
  },
  {
   "cell_type": "code",
   "execution_count": 7,
   "metadata": {},
   "outputs": [
    {
     "data": {
      "text/html": [
       "<p>To authorize access needed by Earth Engine, open the following\n",
       "        URL in a web browser and follow the instructions:</p>\n",
       "        <p><a href=https://code.earthengine.google.com/client-auth?scopes=https%3A//www.googleapis.com/auth/earthengine%20https%3A//www.googleapis.com/auth/devstorage.full_control&request_id=cgHqM44QNo6-ITmxBBmvm_2NZhweZ5xna2Y48udykrU&tc=Epva-X0smzzQoXpv3Qr3MFZvi55zS_4Szav22GNzzuo&cc=JGLWgS70Z_TtA5FzUQVBOwReyzkqp1ASJW45hF1dkdk>https://code.earthengine.google.com/client-auth?scopes=https%3A//www.googleapis.com/auth/earthengine%20https%3A//www.googleapis.com/auth/devstorage.full_control&request_id=cgHqM44QNo6-ITmxBBmvm_2NZhweZ5xna2Y48udykrU&tc=Epva-X0smzzQoXpv3Qr3MFZvi55zS_4Szav22GNzzuo&cc=JGLWgS70Z_TtA5FzUQVBOwReyzkqp1ASJW45hF1dkdk</a></p>\n",
       "        <p>The authorization workflow will generate a code, which you should paste in the box below.</p>\n",
       "        "
      ],
      "text/plain": [
       "<IPython.core.display.HTML object>"
      ]
     },
     "metadata": {},
     "output_type": "display_data"
    },
    {
     "name": "stdout",
     "output_type": "stream",
     "text": [
      "Enter verification code: 4/1AWgavdcFa0EmVmtuqdGq-RF7sKwuIyPHNdUxFQkNrfsDrvxUwEKCLoFMjkg\n",
      "\n",
      "Successfully saved authorization token.\n"
     ]
    }
   ],
   "source": [
    "ee.Authenticate()"
   ]
  },
  {
   "cell_type": "code",
   "execution_count": 8,
   "metadata": {},
   "outputs": [],
   "source": [
    "ee.Initialize()"
   ]
  },
  {
   "cell_type": "code",
   "execution_count": 9,
   "metadata": {},
   "outputs": [
    {
     "name": "stdout",
     "output_type": "stream",
     "text": [
      "Requirement already satisfied: earthengine-api in /Users/aaronl/Documents/GitHub/cracow-poland-rural-farmers/venv/lib/python3.11/site-packages (0.1.335)\n",
      "Requirement already satisfied: future in /Users/aaronl/Documents/GitHub/cracow-poland-rural-farmers/venv/lib/python3.11/site-packages (from earthengine-api) (0.18.2)\n",
      "Requirement already satisfied: google-cloud-storage in /Users/aaronl/Documents/GitHub/cracow-poland-rural-farmers/venv/lib/python3.11/site-packages (from earthengine-api) (2.7.0)\n",
      "Requirement already satisfied: google-api-python-client>=1.12.1 in /Users/aaronl/Documents/GitHub/cracow-poland-rural-farmers/venv/lib/python3.11/site-packages (from earthengine-api) (2.70.0)\n",
      "Requirement already satisfied: google-auth>=1.4.1 in /Users/aaronl/Documents/GitHub/cracow-poland-rural-farmers/venv/lib/python3.11/site-packages (from earthengine-api) (2.15.0)\n",
      "Requirement already satisfied: google-auth-httplib2>=0.0.3 in /Users/aaronl/Documents/GitHub/cracow-poland-rural-farmers/venv/lib/python3.11/site-packages (from earthengine-api) (0.1.0)\n",
      "Requirement already satisfied: httplib2<1dev,>=0.9.2 in /Users/aaronl/Documents/GitHub/cracow-poland-rural-farmers/venv/lib/python3.11/site-packages (from earthengine-api) (0.21.0)\n",
      "Requirement already satisfied: requests in /Users/aaronl/Documents/GitHub/cracow-poland-rural-farmers/venv/lib/python3.11/site-packages (from earthengine-api) (2.28.1)\n",
      "Requirement already satisfied: six in /Users/aaronl/Documents/GitHub/cracow-poland-rural-farmers/venv/lib/python3.11/site-packages (from earthengine-api) (1.16.0)\n",
      "Requirement already satisfied: google-api-core!=2.0.*,!=2.1.*,!=2.2.*,!=2.3.0,<3.0.0dev,>=1.31.5 in /Users/aaronl/Documents/GitHub/cracow-poland-rural-farmers/venv/lib/python3.11/site-packages (from google-api-python-client>=1.12.1->earthengine-api) (2.11.0)\n",
      "Requirement already satisfied: uritemplate<5,>=3.0.1 in /Users/aaronl/Documents/GitHub/cracow-poland-rural-farmers/venv/lib/python3.11/site-packages (from google-api-python-client>=1.12.1->earthengine-api) (4.1.1)\n",
      "Requirement already satisfied: cachetools<6.0,>=2.0.0 in /Users/aaronl/Documents/GitHub/cracow-poland-rural-farmers/venv/lib/python3.11/site-packages (from google-auth>=1.4.1->earthengine-api) (5.2.0)\n",
      "Requirement already satisfied: pyasn1-modules>=0.2.1 in /Users/aaronl/Documents/GitHub/cracow-poland-rural-farmers/venv/lib/python3.11/site-packages (from google-auth>=1.4.1->earthengine-api) (0.2.8)\n",
      "Requirement already satisfied: rsa<5,>=3.1.4 in /Users/aaronl/Documents/GitHub/cracow-poland-rural-farmers/venv/lib/python3.11/site-packages (from google-auth>=1.4.1->earthengine-api) (4.9)\n",
      "Requirement already satisfied: pyparsing!=3.0.0,!=3.0.1,!=3.0.2,!=3.0.3,<4,>=2.4.2 in /Users/aaronl/Documents/GitHub/cracow-poland-rural-farmers/venv/lib/python3.11/site-packages (from httplib2<1dev,>=0.9.2->earthengine-api) (3.0.9)\n",
      "Requirement already satisfied: google-cloud-core<3.0dev,>=2.3.0 in /Users/aaronl/Documents/GitHub/cracow-poland-rural-farmers/venv/lib/python3.11/site-packages (from google-cloud-storage->earthengine-api) (2.3.2)\n",
      "Requirement already satisfied: google-resumable-media>=2.3.2 in /Users/aaronl/Documents/GitHub/cracow-poland-rural-farmers/venv/lib/python3.11/site-packages (from google-cloud-storage->earthengine-api) (2.4.0)\n",
      "Requirement already satisfied: charset-normalizer<3,>=2 in /Users/aaronl/Documents/GitHub/cracow-poland-rural-farmers/venv/lib/python3.11/site-packages (from requests->earthengine-api) (2.1.1)\n",
      "Requirement already satisfied: idna<4,>=2.5 in /Users/aaronl/Documents/GitHub/cracow-poland-rural-farmers/venv/lib/python3.11/site-packages (from requests->earthengine-api) (3.4)\n",
      "Requirement already satisfied: urllib3<1.27,>=1.21.1 in /Users/aaronl/Documents/GitHub/cracow-poland-rural-farmers/venv/lib/python3.11/site-packages (from requests->earthengine-api) (1.26.13)\n",
      "Requirement already satisfied: certifi>=2017.4.17 in /Users/aaronl/Documents/GitHub/cracow-poland-rural-farmers/venv/lib/python3.11/site-packages (from requests->earthengine-api) (2022.12.7)\n",
      "Requirement already satisfied: googleapis-common-protos<2.0dev,>=1.56.2 in /Users/aaronl/Documents/GitHub/cracow-poland-rural-farmers/venv/lib/python3.11/site-packages (from google-api-core!=2.0.*,!=2.1.*,!=2.2.*,!=2.3.0,<3.0.0dev,>=1.31.5->google-api-python-client>=1.12.1->earthengine-api) (1.57.0)\n",
      "Requirement already satisfied: protobuf!=3.20.0,!=3.20.1,!=4.21.0,!=4.21.1,!=4.21.2,!=4.21.3,!=4.21.4,!=4.21.5,<5.0.0dev,>=3.19.5 in /Users/aaronl/Documents/GitHub/cracow-poland-rural-farmers/venv/lib/python3.11/site-packages (from google-api-core!=2.0.*,!=2.1.*,!=2.2.*,!=2.3.0,<3.0.0dev,>=1.31.5->google-api-python-client>=1.12.1->earthengine-api) (4.21.12)\n",
      "Requirement already satisfied: google-crc32c<2.0dev,>=1.0 in /Users/aaronl/Documents/GitHub/cracow-poland-rural-farmers/venv/lib/python3.11/site-packages (from google-resumable-media>=2.3.2->google-cloud-storage->earthengine-api) (1.5.0)\n",
      "Requirement already satisfied: pyasn1<0.5.0,>=0.4.6 in /Users/aaronl/Documents/GitHub/cracow-poland-rural-farmers/venv/lib/python3.11/site-packages (from pyasn1-modules>=0.2.1->google-auth>=1.4.1->earthengine-api) (0.4.8)\n"
     ]
    }
   ],
   "source": [
    "!pip3 install earthengine-api --upgrade"
   ]
  },
  {
   "cell_type": "code",
   "execution_count": 10,
   "metadata": {},
   "outputs": [
    {
     "data": {
      "application/vnd.jupyter.widget-view+json": {
       "model_id": "0c52f4a1e3764ad3bb81021453a32203",
       "version_major": 2,
       "version_minor": 0
      },
      "text/plain": [
       "Map(center=[52.10897450015436, 19.43123725102475], controls=(WidgetControl(options=['position', 'transparent_b…"
      ]
     },
     "execution_count": 10,
     "metadata": {},
     "output_type": "execute_result"
    }
   ],
   "source": [
    "Map = geemap.Map()\n",
    "dataset = ee.FeatureCollection(\"USDOS/LSIB_SIMPLE/2017\") # Can add shape file which you require\n",
    "country = dataset.filter(ee.Filter.eq('country_na', 'Poland'))\n",
    "\n",
    "Map.addLayer(country)\n",
    "Map.centerObject(country,6)\n",
    "Map\n",
    "     \n"
   ]
  },
  {
   "cell_type": "code",
   "execution_count": 11,
   "metadata": {},
   "outputs": [
    {
     "data": {
      "application/vnd.jupyter.widget-view+json": {
       "model_id": "0c52f4a1e3764ad3bb81021453a32203",
       "version_major": 2,
       "version_minor": 0
      },
      "text/plain": [
       "Map(bottom=1125.0, center=[32.99023555965106, 56.25020876926544], controls=(WidgetControl(options=['position',…"
      ]
     },
     "metadata": {},
     "output_type": "display_data"
    }
   ],
   "source": [
    "display(Map)"
   ]
  },
  {
   "cell_type": "code",
   "execution_count": 12,
   "metadata": {},
   "outputs": [
    {
     "data": {
      "application/vnd.jupyter.widget-view+json": {
       "model_id": "c06ca3d8d75c44f89f0f44208b7f1ef5",
       "version_major": 2,
       "version_minor": 0
      },
      "text/plain": [
       "Map(center=[52.10897450015436, 19.43123725102475], controls=(WidgetControl(options=['position', 'transparent_b…"
      ]
     },
     "execution_count": 12,
     "metadata": {},
     "output_type": "execute_result"
    }
   ],
   "source": [
    "Map = geemap.Map()\n",
    "dataset = ee.FeatureCollection(\"USDOS/LSIB_SIMPLE/2017\") # Can add shape file which you require\n",
    "ndvi_dataset = ee.ImageCollection(\"MODIS/061/MOD13Q1\") # Can add shape file which you require\n",
    "country = dataset.filter(ee.Filter.eq('country_co', 'PL'))\n",
    "\n",
    "ndvi_poland = ndvi_dataset.select('NDVI') \\\n",
    "                .filterDate('2022-01-01', '2022-12-25') \\\n",
    "                .reduce(ee.Reducer.mean()) \\\n",
    "                .clip(country)\n",
    "\n",
    "\n",
    "ndviVis = {\n",
    "  'min': 0.0,\n",
    "  'max': 8000.0,\n",
    "  'palette': [\n",
    "    'FFFFFF', 'CE7E45', 'DF923D', 'F1B555', 'FCD163', '99B718', '74A901',\n",
    "    '66A000', '529400', '3E8601', '207401', '056201', '004C00', '023B01',\n",
    "    '012E01', '011D01', '011301'\n",
    "  ],\n",
    "}\n",
    "\n",
    "\n",
    "Map.addLayer(ndvi_poland, ndviVis)\n",
    "Map.addLayer(country)\n",
    "Map.centerObject(country,6)\n",
    "Map"
   ]
  },
  {
   "cell_type": "code",
   "execution_count": null,
   "metadata": {},
   "outputs": [],
   "source": []
  }
 ],
 "metadata": {
  "kernelspec": {
   "display_name": "Python 3 (ipykernel)",
   "language": "python",
   "name": "python3"
  },
  "language_info": {
   "codemirror_mode": {
    "name": "ipython",
    "version": 3
   },
   "file_extension": ".py",
   "mimetype": "text/x-python",
   "name": "python",
   "nbconvert_exporter": "python",
   "pygments_lexer": "ipython3",
   "version": "3.11.1"
  },
  "vscode": {
   "interpreter": {
    "hash": "8b45239768bc0e08d851481a3d3566978e1193224ad294b9caba58a77f655212"
   }
  }
 },
 "nbformat": 4,
 "nbformat_minor": 2
}
